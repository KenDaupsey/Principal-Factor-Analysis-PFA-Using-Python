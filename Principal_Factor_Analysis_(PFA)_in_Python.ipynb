{
  "nbformat": 4,
  "nbformat_minor": 0,
  "metadata": {
    "colab": {
      "provenance": [],
      "authorship_tag": "ABX9TyNVwcHcyJjAgZmQabHBLsA4",
      "include_colab_link": true
    },
    "kernelspec": {
      "name": "python3",
      "display_name": "Python 3"
    },
    "language_info": {
      "name": "python"
    }
  },
  "cells": [
    {
      "cell_type": "markdown",
      "metadata": {
        "id": "view-in-github",
        "colab_type": "text"
      },
      "source": [
        "<a href=\"https://colab.research.google.com/github/KenDaupsey/Principal-Factor-Analysis-PFA-Using-Python/blob/main/Principal_Factor_Analysis_(PFA)_in_Python.ipynb\" target=\"_parent\"><img src=\"https://colab.research.google.com/assets/colab-badge.svg\" alt=\"Open In Colab\"/></a>"
      ]
    },
    {
      "cell_type": "markdown",
      "source": [
        "# *** Principal Factor Analysis (PFA) in Python** ***"
      ],
      "metadata": {
        "id": "7MvnsZvrLr6t"
      }
    },
    {
      "cell_type": "code",
      "source": [
        "### Import Necessary Libraries\n",
        "\n",
        "import pandas as pd\n",
        "import numpy as np\n",
        "import statsmodels.api as sm\n",
        "import matplotlib.pyplot as plt"
      ],
      "metadata": {
        "id": "33x289ggLv9R"
      },
      "execution_count": 1,
      "outputs": []
    },
    {
      "cell_type": "code",
      "source": [
        "### Load Dataset and Examine First 5 Rows\n",
        "url= \"https://raw.githubusercontent.com/KenDaupsey/Principal-Factor-Analysis-PFA-Using-Python/main/hsb2%7Edata.csv\"\n",
        "df = pd.read_csv(url)\n",
        "df.head()"
      ],
      "metadata": {
        "colab": {
          "base_uri": "https://localhost:8080/",
          "height": 206
        },
        "id": "IwjRpAz5OHBr",
        "outputId": "5642f36e-be4b-4842-f5de-52569a0b4102"
      },
      "execution_count": 2,
      "outputs": [
        {
          "output_type": "execute_result",
          "data": {
            "text/plain": [
              "    id  female   race     ses  schtyp      prog  read  write  math  science  \\\n",
              "0   70    male  white     low  public   general    57     52    41       47   \n",
              "1  121  female  white  middle  public  vocation    68     59    53       63   \n",
              "2   86    male  white    high  public   general    44     33    54       58   \n",
              "3  141    male  white    high  public  vocation    63     44    47       53   \n",
              "4  172    male  white  middle  public  academic    47     52    57       53   \n",
              "\n",
              "   socst  \n",
              "0     57  \n",
              "1     61  \n",
              "2     31  \n",
              "3     56  \n",
              "4     61  "
            ],
            "text/html": [
              "\n",
              "  <div id=\"df-2d45ac2c-b669-48eb-adcf-35f01db72c3f\" class=\"colab-df-container\">\n",
              "    <div>\n",
              "<style scoped>\n",
              "    .dataframe tbody tr th:only-of-type {\n",
              "        vertical-align: middle;\n",
              "    }\n",
              "\n",
              "    .dataframe tbody tr th {\n",
              "        vertical-align: top;\n",
              "    }\n",
              "\n",
              "    .dataframe thead th {\n",
              "        text-align: right;\n",
              "    }\n",
              "</style>\n",
              "<table border=\"1\" class=\"dataframe\">\n",
              "  <thead>\n",
              "    <tr style=\"text-align: right;\">\n",
              "      <th></th>\n",
              "      <th>id</th>\n",
              "      <th>female</th>\n",
              "      <th>race</th>\n",
              "      <th>ses</th>\n",
              "      <th>schtyp</th>\n",
              "      <th>prog</th>\n",
              "      <th>read</th>\n",
              "      <th>write</th>\n",
              "      <th>math</th>\n",
              "      <th>science</th>\n",
              "      <th>socst</th>\n",
              "    </tr>\n",
              "  </thead>\n",
              "  <tbody>\n",
              "    <tr>\n",
              "      <th>0</th>\n",
              "      <td>70</td>\n",
              "      <td>male</td>\n",
              "      <td>white</td>\n",
              "      <td>low</td>\n",
              "      <td>public</td>\n",
              "      <td>general</td>\n",
              "      <td>57</td>\n",
              "      <td>52</td>\n",
              "      <td>41</td>\n",
              "      <td>47</td>\n",
              "      <td>57</td>\n",
              "    </tr>\n",
              "    <tr>\n",
              "      <th>1</th>\n",
              "      <td>121</td>\n",
              "      <td>female</td>\n",
              "      <td>white</td>\n",
              "      <td>middle</td>\n",
              "      <td>public</td>\n",
              "      <td>vocation</td>\n",
              "      <td>68</td>\n",
              "      <td>59</td>\n",
              "      <td>53</td>\n",
              "      <td>63</td>\n",
              "      <td>61</td>\n",
              "    </tr>\n",
              "    <tr>\n",
              "      <th>2</th>\n",
              "      <td>86</td>\n",
              "      <td>male</td>\n",
              "      <td>white</td>\n",
              "      <td>high</td>\n",
              "      <td>public</td>\n",
              "      <td>general</td>\n",
              "      <td>44</td>\n",
              "      <td>33</td>\n",
              "      <td>54</td>\n",
              "      <td>58</td>\n",
              "      <td>31</td>\n",
              "    </tr>\n",
              "    <tr>\n",
              "      <th>3</th>\n",
              "      <td>141</td>\n",
              "      <td>male</td>\n",
              "      <td>white</td>\n",
              "      <td>high</td>\n",
              "      <td>public</td>\n",
              "      <td>vocation</td>\n",
              "      <td>63</td>\n",
              "      <td>44</td>\n",
              "      <td>47</td>\n",
              "      <td>53</td>\n",
              "      <td>56</td>\n",
              "    </tr>\n",
              "    <tr>\n",
              "      <th>4</th>\n",
              "      <td>172</td>\n",
              "      <td>male</td>\n",
              "      <td>white</td>\n",
              "      <td>middle</td>\n",
              "      <td>public</td>\n",
              "      <td>academic</td>\n",
              "      <td>47</td>\n",
              "      <td>52</td>\n",
              "      <td>57</td>\n",
              "      <td>53</td>\n",
              "      <td>61</td>\n",
              "    </tr>\n",
              "  </tbody>\n",
              "</table>\n",
              "</div>\n",
              "    <div class=\"colab-df-buttons\">\n",
              "\n",
              "  <div class=\"colab-df-container\">\n",
              "    <button class=\"colab-df-convert\" onclick=\"convertToInteractive('df-2d45ac2c-b669-48eb-adcf-35f01db72c3f')\"\n",
              "            title=\"Convert this dataframe to an interactive table.\"\n",
              "            style=\"display:none;\">\n",
              "\n",
              "  <svg xmlns=\"http://www.w3.org/2000/svg\" height=\"24px\" viewBox=\"0 -960 960 960\">\n",
              "    <path d=\"M120-120v-720h720v720H120Zm60-500h600v-160H180v160Zm220 220h160v-160H400v160Zm0 220h160v-160H400v160ZM180-400h160v-160H180v160Zm440 0h160v-160H620v160ZM180-180h160v-160H180v160Zm440 0h160v-160H620v160Z\"/>\n",
              "  </svg>\n",
              "    </button>\n",
              "\n",
              "  <style>\n",
              "    .colab-df-container {\n",
              "      display:flex;\n",
              "      gap: 12px;\n",
              "    }\n",
              "\n",
              "    .colab-df-convert {\n",
              "      background-color: #E8F0FE;\n",
              "      border: none;\n",
              "      border-radius: 50%;\n",
              "      cursor: pointer;\n",
              "      display: none;\n",
              "      fill: #1967D2;\n",
              "      height: 32px;\n",
              "      padding: 0 0 0 0;\n",
              "      width: 32px;\n",
              "    }\n",
              "\n",
              "    .colab-df-convert:hover {\n",
              "      background-color: #E2EBFA;\n",
              "      box-shadow: 0px 1px 2px rgba(60, 64, 67, 0.3), 0px 1px 3px 1px rgba(60, 64, 67, 0.15);\n",
              "      fill: #174EA6;\n",
              "    }\n",
              "\n",
              "    .colab-df-buttons div {\n",
              "      margin-bottom: 4px;\n",
              "    }\n",
              "\n",
              "    [theme=dark] .colab-df-convert {\n",
              "      background-color: #3B4455;\n",
              "      fill: #D2E3FC;\n",
              "    }\n",
              "\n",
              "    [theme=dark] .colab-df-convert:hover {\n",
              "      background-color: #434B5C;\n",
              "      box-shadow: 0px 1px 3px 1px rgba(0, 0, 0, 0.15);\n",
              "      filter: drop-shadow(0px 1px 2px rgba(0, 0, 0, 0.3));\n",
              "      fill: #FFFFFF;\n",
              "    }\n",
              "  </style>\n",
              "\n",
              "    <script>\n",
              "      const buttonEl =\n",
              "        document.querySelector('#df-2d45ac2c-b669-48eb-adcf-35f01db72c3f button.colab-df-convert');\n",
              "      buttonEl.style.display =\n",
              "        google.colab.kernel.accessAllowed ? 'block' : 'none';\n",
              "\n",
              "      async function convertToInteractive(key) {\n",
              "        const element = document.querySelector('#df-2d45ac2c-b669-48eb-adcf-35f01db72c3f');\n",
              "        const dataTable =\n",
              "          await google.colab.kernel.invokeFunction('convertToInteractive',\n",
              "                                                    [key], {});\n",
              "        if (!dataTable) return;\n",
              "\n",
              "        const docLinkHtml = 'Like what you see? Visit the ' +\n",
              "          '<a target=\"_blank\" href=https://colab.research.google.com/notebooks/data_table.ipynb>data table notebook</a>'\n",
              "          + ' to learn more about interactive tables.';\n",
              "        element.innerHTML = '';\n",
              "        dataTable['output_type'] = 'display_data';\n",
              "        await google.colab.output.renderOutput(dataTable, element);\n",
              "        const docLink = document.createElement('div');\n",
              "        docLink.innerHTML = docLinkHtml;\n",
              "        element.appendChild(docLink);\n",
              "      }\n",
              "    </script>\n",
              "  </div>\n",
              "\n",
              "\n",
              "<div id=\"df-e0aa9778-0aa8-454f-8297-31c221dcad7e\">\n",
              "  <button class=\"colab-df-quickchart\" onclick=\"quickchart('df-e0aa9778-0aa8-454f-8297-31c221dcad7e')\"\n",
              "            title=\"Suggest charts\"\n",
              "            style=\"display:none;\">\n",
              "\n",
              "<svg xmlns=\"http://www.w3.org/2000/svg\" height=\"24px\"viewBox=\"0 0 24 24\"\n",
              "     width=\"24px\">\n",
              "    <g>\n",
              "        <path d=\"M19 3H5c-1.1 0-2 .9-2 2v14c0 1.1.9 2 2 2h14c1.1 0 2-.9 2-2V5c0-1.1-.9-2-2-2zM9 17H7v-7h2v7zm4 0h-2V7h2v10zm4 0h-2v-4h2v4z\"/>\n",
              "    </g>\n",
              "</svg>\n",
              "  </button>\n",
              "\n",
              "<style>\n",
              "  .colab-df-quickchart {\n",
              "      --bg-color: #E8F0FE;\n",
              "      --fill-color: #1967D2;\n",
              "      --hover-bg-color: #E2EBFA;\n",
              "      --hover-fill-color: #174EA6;\n",
              "      --disabled-fill-color: #AAA;\n",
              "      --disabled-bg-color: #DDD;\n",
              "  }\n",
              "\n",
              "  [theme=dark] .colab-df-quickchart {\n",
              "      --bg-color: #3B4455;\n",
              "      --fill-color: #D2E3FC;\n",
              "      --hover-bg-color: #434B5C;\n",
              "      --hover-fill-color: #FFFFFF;\n",
              "      --disabled-bg-color: #3B4455;\n",
              "      --disabled-fill-color: #666;\n",
              "  }\n",
              "\n",
              "  .colab-df-quickchart {\n",
              "    background-color: var(--bg-color);\n",
              "    border: none;\n",
              "    border-radius: 50%;\n",
              "    cursor: pointer;\n",
              "    display: none;\n",
              "    fill: var(--fill-color);\n",
              "    height: 32px;\n",
              "    padding: 0;\n",
              "    width: 32px;\n",
              "  }\n",
              "\n",
              "  .colab-df-quickchart:hover {\n",
              "    background-color: var(--hover-bg-color);\n",
              "    box-shadow: 0 1px 2px rgba(60, 64, 67, 0.3), 0 1px 3px 1px rgba(60, 64, 67, 0.15);\n",
              "    fill: var(--button-hover-fill-color);\n",
              "  }\n",
              "\n",
              "  .colab-df-quickchart-complete:disabled,\n",
              "  .colab-df-quickchart-complete:disabled:hover {\n",
              "    background-color: var(--disabled-bg-color);\n",
              "    fill: var(--disabled-fill-color);\n",
              "    box-shadow: none;\n",
              "  }\n",
              "\n",
              "  .colab-df-spinner {\n",
              "    border: 2px solid var(--fill-color);\n",
              "    border-color: transparent;\n",
              "    border-bottom-color: var(--fill-color);\n",
              "    animation:\n",
              "      spin 1s steps(1) infinite;\n",
              "  }\n",
              "\n",
              "  @keyframes spin {\n",
              "    0% {\n",
              "      border-color: transparent;\n",
              "      border-bottom-color: var(--fill-color);\n",
              "      border-left-color: var(--fill-color);\n",
              "    }\n",
              "    20% {\n",
              "      border-color: transparent;\n",
              "      border-left-color: var(--fill-color);\n",
              "      border-top-color: var(--fill-color);\n",
              "    }\n",
              "    30% {\n",
              "      border-color: transparent;\n",
              "      border-left-color: var(--fill-color);\n",
              "      border-top-color: var(--fill-color);\n",
              "      border-right-color: var(--fill-color);\n",
              "    }\n",
              "    40% {\n",
              "      border-color: transparent;\n",
              "      border-right-color: var(--fill-color);\n",
              "      border-top-color: var(--fill-color);\n",
              "    }\n",
              "    60% {\n",
              "      border-color: transparent;\n",
              "      border-right-color: var(--fill-color);\n",
              "    }\n",
              "    80% {\n",
              "      border-color: transparent;\n",
              "      border-right-color: var(--fill-color);\n",
              "      border-bottom-color: var(--fill-color);\n",
              "    }\n",
              "    90% {\n",
              "      border-color: transparent;\n",
              "      border-bottom-color: var(--fill-color);\n",
              "    }\n",
              "  }\n",
              "</style>\n",
              "\n",
              "  <script>\n",
              "    async function quickchart(key) {\n",
              "      const quickchartButtonEl =\n",
              "        document.querySelector('#' + key + ' button');\n",
              "      quickchartButtonEl.disabled = true;  // To prevent multiple clicks.\n",
              "      quickchartButtonEl.classList.add('colab-df-spinner');\n",
              "      try {\n",
              "        const charts = await google.colab.kernel.invokeFunction(\n",
              "            'suggestCharts', [key], {});\n",
              "      } catch (error) {\n",
              "        console.error('Error during call to suggestCharts:', error);\n",
              "      }\n",
              "      quickchartButtonEl.classList.remove('colab-df-spinner');\n",
              "      quickchartButtonEl.classList.add('colab-df-quickchart-complete');\n",
              "    }\n",
              "    (() => {\n",
              "      let quickchartButtonEl =\n",
              "        document.querySelector('#df-e0aa9778-0aa8-454f-8297-31c221dcad7e button');\n",
              "      quickchartButtonEl.style.display =\n",
              "        google.colab.kernel.accessAllowed ? 'block' : 'none';\n",
              "    })();\n",
              "  </script>\n",
              "</div>\n",
              "\n",
              "    </div>\n",
              "  </div>\n"
            ],
            "application/vnd.google.colaboratory.intrinsic+json": {
              "type": "dataframe",
              "variable_name": "df",
              "summary": "{\n  \"name\": \"df\",\n  \"rows\": 200,\n  \"fields\": [\n    {\n      \"column\": \"id\",\n      \"properties\": {\n        \"dtype\": \"number\",\n        \"std\": 57,\n        \"min\": 1,\n        \"max\": 200,\n        \"num_unique_values\": 200,\n        \"samples\": [\n          173,\n          115,\n          126\n        ],\n        \"semantic_type\": \"\",\n        \"description\": \"\"\n      }\n    },\n    {\n      \"column\": \"female\",\n      \"properties\": {\n        \"dtype\": \"category\",\n        \"num_unique_values\": 2,\n        \"samples\": [\n          \"female\",\n          \"male\"\n        ],\n        \"semantic_type\": \"\",\n        \"description\": \"\"\n      }\n    },\n    {\n      \"column\": \"race\",\n      \"properties\": {\n        \"dtype\": \"category\",\n        \"num_unique_values\": 4,\n        \"samples\": [\n          \"african-amer\",\n          \"asian\"\n        ],\n        \"semantic_type\": \"\",\n        \"description\": \"\"\n      }\n    },\n    {\n      \"column\": \"ses\",\n      \"properties\": {\n        \"dtype\": \"category\",\n        \"num_unique_values\": 3,\n        \"samples\": [\n          \"low\",\n          \"middle\"\n        ],\n        \"semantic_type\": \"\",\n        \"description\": \"\"\n      }\n    },\n    {\n      \"column\": \"schtyp\",\n      \"properties\": {\n        \"dtype\": \"category\",\n        \"num_unique_values\": 2,\n        \"samples\": [\n          \"private\",\n          \"public\"\n        ],\n        \"semantic_type\": \"\",\n        \"description\": \"\"\n      }\n    },\n    {\n      \"column\": \"prog\",\n      \"properties\": {\n        \"dtype\": \"category\",\n        \"num_unique_values\": 3,\n        \"samples\": [\n          \"general\",\n          \"vocation\"\n        ],\n        \"semantic_type\": \"\",\n        \"description\": \"\"\n      }\n    },\n    {\n      \"column\": \"read\",\n      \"properties\": {\n        \"dtype\": \"number\",\n        \"std\": 10,\n        \"min\": 28,\n        \"max\": 76,\n        \"num_unique_values\": 30,\n        \"samples\": [\n          46,\n          52\n        ],\n        \"semantic_type\": \"\",\n        \"description\": \"\"\n      }\n    },\n    {\n      \"column\": \"write\",\n      \"properties\": {\n        \"dtype\": \"number\",\n        \"std\": 9,\n        \"min\": 31,\n        \"max\": 67,\n        \"num_unique_values\": 29,\n        \"samples\": [\n          50,\n          67\n        ],\n        \"semantic_type\": \"\",\n        \"description\": \"\"\n      }\n    },\n    {\n      \"column\": \"math\",\n      \"properties\": {\n        \"dtype\": \"number\",\n        \"std\": 9,\n        \"min\": 33,\n        \"max\": 75,\n        \"num_unique_values\": 40,\n        \"samples\": [\n          64,\n          46\n        ],\n        \"semantic_type\": \"\",\n        \"description\": \"\"\n      }\n    },\n    {\n      \"column\": \"science\",\n      \"properties\": {\n        \"dtype\": \"number\",\n        \"std\": 9,\n        \"min\": 26,\n        \"max\": 74,\n        \"num_unique_values\": 34,\n        \"samples\": [\n          49,\n          56\n        ],\n        \"semantic_type\": \"\",\n        \"description\": \"\"\n      }\n    },\n    {\n      \"column\": \"socst\",\n      \"properties\": {\n        \"dtype\": \"number\",\n        \"std\": 10,\n        \"min\": 26,\n        \"max\": 71,\n        \"num_unique_values\": 22,\n        \"samples\": [\n          57,\n          26\n        ],\n        \"semantic_type\": \"\",\n        \"description\": \"\"\n      }\n    }\n  ]\n}"
            }
          },
          "metadata": {},
          "execution_count": 2
        }
      ]
    },
    {
      "cell_type": "code",
      "source": [
        "df.columns"
      ],
      "metadata": {
        "colab": {
          "base_uri": "https://localhost:8080/"
        },
        "id": "9IRplHc1OGxr",
        "outputId": "618b7aef-7491-4425-dd2e-a71f81df4ba3"
      },
      "execution_count": 3,
      "outputs": [
        {
          "output_type": "execute_result",
          "data": {
            "text/plain": [
              "Index(['id', 'female', 'race', 'ses', 'schtyp', 'prog', 'read', 'write',\n",
              "       'math', 'science', 'socst'],\n",
              "      dtype='object')"
            ]
          },
          "metadata": {},
          "execution_count": 3
        }
      ]
    },
    {
      "cell_type": "code",
      "source": [
        "df.info()"
      ],
      "metadata": {
        "colab": {
          "base_uri": "https://localhost:8080/"
        },
        "id": "BjOAUkoIOGpF",
        "outputId": "4109f68d-333f-490a-8605-154df3051c4e"
      },
      "execution_count": 4,
      "outputs": [
        {
          "output_type": "stream",
          "name": "stdout",
          "text": [
            "<class 'pandas.core.frame.DataFrame'>\n",
            "RangeIndex: 200 entries, 0 to 199\n",
            "Data columns (total 11 columns):\n",
            " #   Column   Non-Null Count  Dtype \n",
            "---  ------   --------------  ----- \n",
            " 0   id       200 non-null    int64 \n",
            " 1   female   200 non-null    object\n",
            " 2   race     200 non-null    object\n",
            " 3   ses      200 non-null    object\n",
            " 4   schtyp   200 non-null    object\n",
            " 5   prog     200 non-null    object\n",
            " 6   read     200 non-null    int64 \n",
            " 7   write    200 non-null    int64 \n",
            " 8   math     200 non-null    int64 \n",
            " 9   science  200 non-null    int64 \n",
            " 10  socst    200 non-null    int64 \n",
            "dtypes: int64(6), object(5)\n",
            "memory usage: 17.3+ KB\n"
          ]
        }
      ]
    },
    {
      "cell_type": "code",
      "source": [
        "### Install necessary library\n",
        "!pip install factor_analyzer"
      ],
      "metadata": {
        "colab": {
          "base_uri": "https://localhost:8080/"
        },
        "id": "6cD-yXGxNbqQ",
        "outputId": "ef44947b-905c-4f11-9731-0989fce2944d"
      },
      "execution_count": 5,
      "outputs": [
        {
          "output_type": "stream",
          "name": "stdout",
          "text": [
            "Requirement already satisfied: factor_analyzer in /usr/local/lib/python3.10/dist-packages (0.5.1)\n",
            "Requirement already satisfied: pandas in /usr/local/lib/python3.10/dist-packages (from factor_analyzer) (1.5.3)\n",
            "Requirement already satisfied: scipy in /usr/local/lib/python3.10/dist-packages (from factor_analyzer) (1.11.4)\n",
            "Requirement already satisfied: numpy in /usr/local/lib/python3.10/dist-packages (from factor_analyzer) (1.25.2)\n",
            "Requirement already satisfied: scikit-learn in /usr/local/lib/python3.10/dist-packages (from factor_analyzer) (1.2.2)\n",
            "Requirement already satisfied: python-dateutil>=2.8.1 in /usr/local/lib/python3.10/dist-packages (from pandas->factor_analyzer) (2.8.2)\n",
            "Requirement already satisfied: pytz>=2020.1 in /usr/local/lib/python3.10/dist-packages (from pandas->factor_analyzer) (2023.4)\n",
            "Requirement already satisfied: joblib>=1.1.1 in /usr/local/lib/python3.10/dist-packages (from scikit-learn->factor_analyzer) (1.3.2)\n",
            "Requirement already satisfied: threadpoolctl>=2.0.0 in /usr/local/lib/python3.10/dist-packages (from scikit-learn->factor_analyzer) (3.3.0)\n",
            "Requirement already satisfied: six>=1.5 in /usr/local/lib/python3.10/dist-packages (from python-dateutil>=2.8.1->pandas->factor_analyzer) (1.16.0)\n"
          ]
        }
      ]
    },
    {
      "cell_type": "code",
      "source": [
        "# Import necessary library\n",
        "from factor_analyzer.factor_analyzer import calculate_kmo\n",
        "\n",
        "# Factor analysis\n",
        "from factor_analyzer import FactorAnalyzer\n",
        "\n",
        "# Create FactorAnalyzer object\n",
        "fa = FactorAnalyzer()\n",
        "\n",
        "# Select the variables for factor analysis\n",
        "X_factor = df[['read', 'write', 'math', 'science', 'socst']]\n",
        "\n",
        "# Calculate KMO for factor analysis\n",
        "kmo_all, kmo_model = calculate_kmo(X_factor)\n",
        "\n",
        "# Print KMO for factor analysis\n",
        "print(\"KMO Model:\", kmo_model)"
      ],
      "metadata": {
        "colab": {
          "base_uri": "https://localhost:8080/"
        },
        "id": "G9LITpOcNXKL",
        "outputId": "5ed5524e-a5c3-4f3a-cfbc-9d9b2cf1590f"
      },
      "execution_count": 6,
      "outputs": [
        {
          "output_type": "stream",
          "name": "stdout",
          "text": [
            "KMO Model: 0.8610462905447683\n"
          ]
        }
      ]
    },
    {
      "cell_type": "code",
      "source": [
        "# Factor analysis\n",
        "from factor_analyzer import FactorAnalyzer\n",
        "\n",
        "# Create FactorAnalyzer object\n",
        "fa = FactorAnalyzer()\n",
        "\n",
        "# Assuming X_factor is defined\n",
        "X_factor = df[['read', 'write', 'math', 'science', 'socst']]\n",
        "\n",
        "# Perform factor analysis\n",
        "fa.fit(X_factor)\n",
        "\n",
        "# Print explained variance\n",
        "print(fa.get_factor_variance())"
      ],
      "metadata": {
        "colab": {
          "base_uri": "https://localhost:8080/"
        },
        "id": "dv1b7ydpNXBy",
        "outputId": "f08694dd-a480-4a24-a1a4-c96b6d280c05"
      },
      "execution_count": 7,
      "outputs": [
        {
          "output_type": "stream",
          "name": "stdout",
          "text": [
            "(array([1.25787849, 0.73986861, 0.4781838 ]), array([0.2515757 , 0.14797372, 0.09563676]), array([0.2515757 , 0.39954942, 0.49518618]))\n"
          ]
        }
      ]
    },
    {
      "cell_type": "code",
      "source": [
        "# Print factor loadings\n",
        "print(fa.loadings_)"
      ],
      "metadata": {
        "colab": {
          "base_uri": "https://localhost:8080/"
        },
        "id": "wugY56yFXSVJ",
        "outputId": "1ca77048-3172-402a-963f-331c5e225540"
      },
      "execution_count": 8,
      "outputs": [
        {
          "output_type": "stream",
          "name": "stdout",
          "text": [
            "[[ 0.51137849  0.52601119 -0.12886603]\n",
            " [ 0.20251801  0.135675    0.5739055 ]\n",
            " [ 0.58047397  0.10960695  0.18351489]\n",
            " [ 0.78071748 -0.0763629   0.10734551]\n",
            " [-0.0942718   0.65339739  0.29497296]]\n"
          ]
        }
      ]
    },
    {
      "cell_type": "code",
      "source": [
        "# Rotate factors to make loadings more interpretable\n",
        "fa_rotated = FactorAnalyzer(rotation=\"varimax\")\n",
        "fa_rotated.fit(df[['read','write','math','science','socst']])\n",
        "\n",
        "print(fa_rotated.loadings_)"
      ],
      "metadata": {
        "colab": {
          "base_uri": "https://localhost:8080/"
        },
        "id": "tsQg1cYANW-J",
        "outputId": "b7c8cb97-7a7d-4575-f4d6-14aeffaa75f5"
      },
      "execution_count": 9,
      "outputs": [
        {
          "output_type": "stream",
          "name": "stdout",
          "text": [
            "[[0.6144753  0.59457913 0.19728896]\n",
            " [0.4232112  0.36257534 0.61403993]\n",
            " [0.61985523 0.3499288  0.37170869]\n",
            " [0.70133513 0.23278126 0.30817004]\n",
            " [0.265188   0.62807787 0.43130398]]\n"
          ]
        }
      ]
    },
    {
      "cell_type": "code",
      "source": [
        "print(fa_rotated.get_factor_variance())"
      ],
      "metadata": {
        "colab": {
          "base_uri": "https://localhost:8080/"
        },
        "id": "w3ObakE5NW7G",
        "outputId": "158ae450-72cf-4327-b909-892aa1b8e03c"
      },
      "execution_count": 10,
      "outputs": [
        {
          "output_type": "stream",
          "name": "stdout",
          "text": [
            "(array([1.50310375, 1.0561043 , 0.83512722]), array([0.30062075, 0.21122086, 0.16702544]), array([0.30062075, 0.51184161, 0.67886705]))\n"
          ]
        }
      ]
    },
    {
      "cell_type": "markdown",
      "source": [
        "*** Entire Code for Principal Factor Analysis ***"
      ],
      "metadata": {
        "id": "UGNYF4QHPeLU"
      }
    },
    {
      "cell_type": "code",
      "source": [
        "###  The entire code for this procedure\n",
        "# Install necessary library\n",
        "#!pip install factor_analyzer\n",
        "\n",
        "# Import necessary libraries\n",
        "import pandas as pd\n",
        "from factor_analyzer import FactorAnalyzer\n",
        "from factor_analyzer.factor_analyzer import calculate_kmo\n",
        "\n",
        "# Load your dataset (replace 'your_dataset.csv' with your actual dataset file)\n",
        "#df = pd.read_csv('your_dataset.csv')\n",
        "\n",
        "# Select the variables for factor analysis\n",
        "X_factor = df[['read', 'write', 'math', 'science', 'socst']]\n",
        "\n",
        "# ------------------------------\n",
        "# Factor Analysis\n",
        "# ------------------------------\n",
        "\n",
        "# Create factor analysis object and perform factor analysis\n",
        "fa = FactorAnalyzer()\n",
        "fa.fit(X_factor)\n",
        "\n",
        "# Calculate KMO for factor analysis\n",
        "kmo_all, kmo_model = calculate_kmo(X_factor)\n",
        "\n",
        "# Print KMO for factor analysis\n",
        "print(\"KMO Model:\", kmo_model)\n",
        "\n",
        "# Print factor loadings for factor analysis\n",
        "print(\"Factor Loadings:\")\n",
        "print(fa.loadings_)\n",
        "\n",
        "# Print explained variance for factor analysis\n",
        "print(\"Explained Variance for Factor Analysis:\")\n",
        "print(fa.get_factor_variance())\n",
        "\n",
        "# Rotate factors to make loadings more interpretable\n",
        "fa_rotated = FactorAnalyzer(rotation=\"varimax\")\n",
        "fa_rotated.fit(X_factor)\n",
        "\n",
        "# Print loadings and explained variance for rotated factors\n",
        "print(\"Factor Loadings (Rotated):\")\n",
        "print(fa_rotated.loadings_)\n",
        "\n",
        "print(\"Explained Variance for Rotated Factors:\")\n",
        "print(fa_rotated.get_factor_variance())\n",
        "\n",
        "#Additional stuff:\n",
        "\n",
        "import matplotlib.pyplot as plt\n",
        "import numpy as np\n",
        "\n",
        "import matplotlib.pyplot as plt\n",
        "import numpy as np\n",
        "\n",
        "# Bar plot for factor loadings before rotation\n",
        "plt.figure(figsize=(12, 6))\n",
        "for i in range(fa.loadings_.shape[1]):\n",
        "    plt.bar(np.arange(len(X_factor.columns)) + 0.2 * i, fa.loadings_[:, i], width=0.2, alpha=0.8, label=f'Factor {i + 1} Loadings')\n",
        "\n",
        "plt.xlabel('Variables')\n",
        "plt.ylabel('Loadings')\n",
        "plt.title('Factor Loadings Before Rotation')\n",
        "plt.xticks(np.arange(len(X_factor.columns)) + 0.2, X_factor.columns)\n",
        "plt.legend()\n",
        "plt.show()"
      ],
      "metadata": {
        "colab": {
          "base_uri": "https://localhost:8080/",
          "height": 878
        },
        "id": "mWMDmD9RNW3h",
        "outputId": "189ac1ea-c6e5-4928-c099-44b676aff3a4"
      },
      "execution_count": 11,
      "outputs": [
        {
          "output_type": "stream",
          "name": "stdout",
          "text": [
            "KMO Model: 0.8610462905447683\n",
            "Factor Loadings:\n",
            "[[ 0.51137849  0.52601119 -0.12886603]\n",
            " [ 0.20251801  0.135675    0.5739055 ]\n",
            " [ 0.58047397  0.10960695  0.18351489]\n",
            " [ 0.78071748 -0.0763629   0.10734551]\n",
            " [-0.0942718   0.65339739  0.29497296]]\n",
            "Explained Variance for Factor Analysis:\n",
            "(array([1.25787849, 0.73986861, 0.4781838 ]), array([0.2515757 , 0.14797372, 0.09563676]), array([0.2515757 , 0.39954942, 0.49518618]))\n",
            "Factor Loadings (Rotated):\n",
            "[[0.6144753  0.59457913 0.19728896]\n",
            " [0.4232112  0.36257534 0.61403993]\n",
            " [0.61985523 0.3499288  0.37170869]\n",
            " [0.70133513 0.23278126 0.30817004]\n",
            " [0.265188   0.62807787 0.43130398]]\n",
            "Explained Variance for Rotated Factors:\n",
            "(array([1.50310375, 1.0561043 , 0.83512722]), array([0.30062075, 0.21122086, 0.16702544]), array([0.30062075, 0.51184161, 0.67886705]))\n"
          ]
        },
        {
          "output_type": "display_data",
          "data": {
            "text/plain": [
              "<Figure size 1200x600 with 1 Axes>"
            ],
            "image/png": "[encoded data removed]"
          },
          "metadata": {}
        }
      ]
    },
    {
      "cell_type": "code",
      "source": [
        "import matplotlib.pyplot as plt\n",
        "import numpy as np\n",
        "\n",
        "# Bar plot for factor loadings after rotation\n",
        "plt.figure(figsize=(12, 6))\n",
        "for i in range(fa_rotated.loadings_.shape[1]):\n",
        "    plt.bar(np.arange(len(X_factor.columns)) + 0.2 * i, fa_rotated.loadings_[:, i], width=0.2, alpha=0.8, label=f'Rotated Factor {i + 1} Loadings')\n",
        "\n",
        "plt.xlabel('Variables')\n",
        "plt.ylabel('Loadings')\n",
        "plt.title('Factor Loadings After Rotation')\n",
        "plt.xticks(np.arange(len(X_factor.columns)) + 0.2 * (fa_rotated.loadings_.shape[1] / 2), X_factor.columns)\n",
        "plt.legend()\n",
        "plt.show()"
      ],
      "metadata": {
        "colab": {
          "base_uri": "https://localhost:8080/",
          "height": 564
        },
        "id": "1PENW2XKYhpR",
        "outputId": "653c6225-6ba3-49cd-adff-c228c2342309"
      },
      "execution_count": 12,
      "outputs": [
        {
          "output_type": "display_data",
          "data": {
            "text/plain": [
              "<Figure size 1200x600 with 1 Axes>"
            ],
            "image/png": "[encoded data removed]"
          },
          "metadata": {}
        }
      ]
    },
    {
      "cell_type": "markdown",
      "source": [
        "## *** The End ***"
      ],
      "metadata": {
        "id": "AJKPrsmsQB7W"
      }
    },
    {
      "cell_type": "code",
      "source": [],
      "metadata": {
        "id": "MF0H3LB7QGww"
      },
      "execution_count": 12,
      "outputs": []
    }
  ]
}